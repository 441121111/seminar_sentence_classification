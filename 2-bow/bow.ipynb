{
 "cells": [
  {
   "cell_type": "code",
   "execution_count": 1,
   "metadata": {
    "collapsed": true
   },
   "outputs": [],
   "source": [
    "from sklearn.datasets import fetch_20newsgroups\n",
    "train=fetch_20newsgroups(subset='train')\n",
    "test=fetch_20newsgroups(subset='test')"
   ]
  },
  {
   "cell_type": "code",
   "execution_count": 2,
   "metadata": {
    "collapsed": true
   },
   "outputs": [],
   "source": [
    "from sklearn.feature_extraction.text import CountVectorizer\n",
    "cv=CountVectorizer(min_df=0.01,max_df=0.1)\n",
    "\n",
    "train_X=cv.fit_transform(train['data']).toarray()\n",
    "test_X=cv.transform(test['data']).toarray()"
   ]
  },
  {
   "cell_type": "markdown",
   "metadata": {},
   "source": [
    "- ここまででbowの特徴ができた。\n",
    "    - 重ねて言うが基本はsparse matrixで持ってたほうがいい\n",
    "    - それか頻度でフィルタしてちゃんと単語を減らしておくか\n",
    "        - 50000単語くらいまでが妥当(だと勝手に思っている)\n",
    "- 大事なこと\n",
    "    - trainとtest、説明変数と目的変数は絶対に別の変数に入れる\n",
    "    - なんならファイルも分けておくべき\n",
    "    - そうしないと死を迎えてしまう\n",
    "        - 実際迎えた。"
   ]
  },
  {
   "cell_type": "code",
   "execution_count": 3,
   "metadata": {},
   "outputs": [
    {
     "data": {
      "text/plain": [
       "(11314, 1983)"
      ]
     },
     "execution_count": 3,
     "metadata": {},
     "output_type": "execute_result"
    }
   ],
   "source": [
    "train_X.shape"
   ]
  },
  {
   "cell_type": "markdown",
   "metadata": {},
   "source": [
    "- 今回は1983種類の単語しか使ってないっぽい\n",
    "    - 多分もうちょい使ったほうが精度的には良い\n",
    "    - でも今回はsurfaceで動かしたいだけだから(めんどいから)チューニングはパス"
   ]
  },
  {
   "cell_type": "code",
   "execution_count": 4,
   "metadata": {
    "collapsed": true
   },
   "outputs": [],
   "source": [
    "from sklearn.linear_model import RidgeClassifier\n",
    "from sklearn.ensemble import RandomForestClassifier\n",
    "from sklearn.svm import SVC"
   ]
  },
  {
   "cell_type": "code",
   "execution_count": 5,
   "metadata": {},
   "outputs": [
    {
     "name": "stdout",
     "output_type": "stream",
     "text": [
      "L2正則化つきの線形分類器 ： 0.629978757302\n",
      "ランダムフォレスト ： 0.699548592671\n",
      "rbfカーネルのSVM ： 0.502389803505\n",
      "2次の多項カーネルのSVM ： 0.0677110993096\n"
     ]
    }
   ],
   "source": [
    "clf_list=[RidgeClassifier(),RandomForestClassifier(n_estimators=100),SVC(),SVC(kernel='poly',degree=2)]\n",
    "clf_names=['L2正則化つきの線形分類器','ランダムフォレスト','rbfカーネルのSVM','2次の多項カーネルのSVM']\n",
    "\n",
    "for name,clf in zip(clf_names,clf_list):\n",
    "    clf.fit(train_X,train['target'])\n",
    "    print(name,'：',clf.score(test_X,test['target']))"
   ]
  },
  {
   "cell_type": "markdown",
   "metadata": {},
   "source": [
    "- 手法ごとに計算時間が違う\n",
    "    - 次元とデータ数に気を払うべき\n",
    "    - 10万データとかあるときにSVMを使うと死を迎えてしまう\n",
    "        - 実際迎えた。\n",
    "        - 1万データで回している今でさえも後悔している。\n",
    "        - SVMはだいたいデータ量の3乗オーダだと言われている。厳密には違うらしい。"
   ]
  },
  {
   "cell_type": "markdown",
   "metadata": {},
   "source": [
    "- さっきのナイーブベイズは0.46123207647371217(参考記録)。\n",
    "    - パラメータチューニングとかデータの相性とかもあるので一概に言えない。\n",
    "    - 今回のデータの作り方だと2次の多項カーネルが爆死している。\n",
    "        - 多分低次元だから。\n",
    "        - チャンスレートはだいたい1/20(=0.05)なので、ほとんど当てずっぽう状態だとわかる。\n",
    "        - 余談だが、グラフを描いて精度の良し悪しを言いたいときはチャンスレートを直線で引くと丁寧らしい。\n",
    "    - ちゃんとデータの性質を見極めよう。"
   ]
  },
  {
   "cell_type": "code",
   "execution_count": null,
   "metadata": {
    "collapsed": true
   },
   "outputs": [],
   "source": []
  }
 ],
 "metadata": {
  "kernelspec": {
   "display_name": "Python 3",
   "language": "python",
   "name": "python3"
  },
  "language_info": {
   "codemirror_mode": {
    "name": "ipython",
    "version": 3
   },
   "file_extension": ".py",
   "mimetype": "text/x-python",
   "name": "python",
   "nbconvert_exporter": "python",
   "pygments_lexer": "ipython3",
   "version": "3.6.1"
  },
  "varInspector": {
   "cols": {
    "lenName": 16,
    "lenType": 16,
    "lenVar": 40
   },
   "kernels_config": {
    "python": {
     "delete_cmd_postfix": "",
     "delete_cmd_prefix": "del ",
     "library": "var_list.py",
     "varRefreshCmd": "print(var_dic_list())"
    },
    "r": {
     "delete_cmd_postfix": ") ",
     "delete_cmd_prefix": "rm(",
     "library": "var_list.r",
     "varRefreshCmd": "cat(var_dic_list()) "
    }
   },
   "types_to_exclude": [
    "module",
    "function",
    "builtin_function_or_method",
    "instance",
    "_Feature"
   ],
   "window_display": false
  }
 },
 "nbformat": 4,
 "nbformat_minor": 2
}
